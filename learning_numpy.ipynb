{
 "cells": [
  {
   "cell_type": "code",
   "execution_count": 18,
   "id": "0e31b9dd",
   "metadata": {},
   "outputs": [],
   "source": [
    "import numpy as np"
   ]
  },
  {
   "cell_type": "code",
   "execution_count": 3,
   "id": "42526a80",
   "metadata": {},
   "outputs": [],
   "source": [
    "matriz_1=np.array([1,2,3,4,5,6,7,8,9])"
   ]
  },
  {
   "cell_type": "code",
   "execution_count": 5,
   "id": "2f0dcb09",
   "metadata": {},
   "outputs": [
    {
     "name": "stdout",
     "output_type": "stream",
     "text": [
      "[1 2 3 4 5 6 7 8 9]\n"
     ]
    }
   ],
   "source": [
    "print(matriz_1)"
   ]
  },
  {
   "cell_type": "code",
   "execution_count": 7,
   "id": "50fe8431",
   "metadata": {},
   "outputs": [],
   "source": [
    "matriz_2=np.array([[12,34,56,78,90],[10,29,38,47,56],[13,25,46,57,80]])"
   ]
  },
  {
   "cell_type": "code",
   "execution_count": 8,
   "id": "a32051af",
   "metadata": {},
   "outputs": [
    {
     "name": "stdout",
     "output_type": "stream",
     "text": [
      "[[12 34 56 78 90]\n",
      " [10 29 38 47 56]\n",
      " [13 25 46 57 80]]\n"
     ]
    }
   ],
   "source": [
    "print(matriz_2)"
   ]
  },
  {
   "cell_type": "code",
   "execution_count": 12,
   "id": "c5957718",
   "metadata": {},
   "outputs": [],
   "source": [
    "lista_3=[1,2,3,4,5]"
   ]
  },
  {
   "cell_type": "code",
   "execution_count": 13,
   "id": "63753b11",
   "metadata": {},
   "outputs": [],
   "source": [
    "matriz_3= np.array(lista_3)"
   ]
  },
  {
   "cell_type": "code",
   "execution_count": 14,
   "id": "712b727b",
   "metadata": {},
   "outputs": [
    {
     "name": "stdout",
     "output_type": "stream",
     "text": [
      "[1 2 3 4 5]\n"
     ]
    }
   ],
   "source": [
    "print(matriz_3)"
   ]
  },
  {
   "cell_type": "code",
   "execution_count": 15,
   "id": "bfe73726",
   "metadata": {},
   "outputs": [],
   "source": [
    "matriz_4=np.arange(24).reshape(6,4)"
   ]
  },
  {
   "cell_type": "code",
   "execution_count": 16,
   "id": "faa04796",
   "metadata": {},
   "outputs": [
    {
     "name": "stdout",
     "output_type": "stream",
     "text": [
      "[[ 0  1  2  3]\n",
      " [ 4  5  6  7]\n",
      " [ 8  9 10 11]\n",
      " [12 13 14 15]\n",
      " [16 17 18 19]\n",
      " [20 21 22 23]]\n"
     ]
    }
   ],
   "source": [
    "print(matriz_4)"
   ]
  },
  {
   "cell_type": "code",
   "execution_count": 17,
   "id": "62708c0b",
   "metadata": {},
   "outputs": [
    {
     "name": "stdout",
     "output_type": "stream",
     "text": [
      "(6, 4)\n"
     ]
    }
   ],
   "source": [
    "print(matriz_4.shape)"
   ]
  },
  {
   "cell_type": "code",
   "execution_count": 19,
   "id": "1540ef32",
   "metadata": {},
   "outputs": [
    {
     "name": "stdout",
     "output_type": "stream",
     "text": [
      "2\n"
     ]
    }
   ],
   "source": [
    "print(matriz_4.ndim)"
   ]
  },
  {
   "cell_type": "code",
   "execution_count": 20,
   "id": "6cce4688",
   "metadata": {},
   "outputs": [
    {
     "name": "stdout",
     "output_type": "stream",
     "text": [
      "24\n"
     ]
    }
   ],
   "source": [
    "print(matriz_4.size)"
   ]
  },
  {
   "cell_type": "code",
   "execution_count": 22,
   "id": "9f7faf9d",
   "metadata": {},
   "outputs": [],
   "source": [
    "matriz_5=np.zeros((3,5))"
   ]
  },
  {
   "cell_type": "code",
   "execution_count": 23,
   "id": "f9381620",
   "metadata": {},
   "outputs": [
    {
     "name": "stdout",
     "output_type": "stream",
     "text": [
      "[[0. 0. 0. 0. 0.]\n",
      " [0. 0. 0. 0. 0.]\n",
      " [0. 0. 0. 0. 0.]]\n"
     ]
    }
   ],
   "source": [
    "print(matriz_5)"
   ]
  },
  {
   "cell_type": "code",
   "execution_count": 24,
   "id": "87d7abe1",
   "metadata": {},
   "outputs": [],
   "source": [
    "matriz_6=np.arange(10)"
   ]
  },
  {
   "cell_type": "code",
   "execution_count": 25,
   "id": "f7664b95",
   "metadata": {},
   "outputs": [
    {
     "name": "stdout",
     "output_type": "stream",
     "text": [
      "[0 1 2 3 4 5 6 7 8 9]\n"
     ]
    }
   ],
   "source": [
    "print(matriz_6)"
   ]
  },
  {
   "cell_type": "code",
   "execution_count": 27,
   "id": "132920ca",
   "metadata": {},
   "outputs": [],
   "source": [
    "matriz_7=np.linspace(99,88,25)"
   ]
  },
  {
   "cell_type": "code",
   "execution_count": 28,
   "id": "c3573359",
   "metadata": {
    "scrolled": true
   },
   "outputs": [
    {
     "name": "stdout",
     "output_type": "stream",
     "text": [
      "[99.         98.54166667 98.08333333 97.625      97.16666667 96.70833333\n",
      " 96.25       95.79166667 95.33333333 94.875      94.41666667 93.95833333\n",
      " 93.5        93.04166667 92.58333333 92.125      91.66666667 91.20833333\n",
      " 90.75       90.29166667 89.83333333 89.375      88.91666667 88.45833333\n",
      " 88.        ]\n"
     ]
    }
   ],
   "source": [
    "print(matriz_7)"
   ]
  },
  {
   "cell_type": "code",
   "execution_count": 30,
   "id": "8811ca1b",
   "metadata": {},
   "outputs": [],
   "source": [
    "matriz_8=np.arange(24).reshape(2,3,4)"
   ]
  },
  {
   "cell_type": "code",
   "execution_count": 31,
   "id": "ba69e545",
   "metadata": {},
   "outputs": [
    {
     "name": "stdout",
     "output_type": "stream",
     "text": [
      "[[[ 0  1  2  3]\n",
      "  [ 4  5  6  7]\n",
      "  [ 8  9 10 11]]\n",
      "\n",
      " [[12 13 14 15]\n",
      "  [16 17 18 19]\n",
      "  [20 21 22 23]]]\n"
     ]
    }
   ],
   "source": [
    "print(matriz_8)"
   ]
  },
  {
   "cell_type": "code",
   "execution_count": 32,
   "id": "b3956674",
   "metadata": {},
   "outputs": [],
   "source": [
    "matriz_9 = np.arange(27).reshape(3,9)"
   ]
  },
  {
   "cell_type": "code",
   "execution_count": 34,
   "id": "21f00fd1",
   "metadata": {},
   "outputs": [
    {
     "name": "stdout",
     "output_type": "stream",
     "text": [
      "[[ 0  1  2  3  4  5  6  7  8]\n",
      " [ 9 10 11 12 13 14 15 16 17]\n",
      " [18 19 20 21 22 23 24 25 26]]\n"
     ]
    }
   ],
   "source": [
    "print(matriz_9)"
   ]
  },
  {
   "cell_type": "code",
   "execution_count": 36,
   "id": "9454b062",
   "metadata": {},
   "outputs": [],
   "source": [
    "matriz_10= np.array([99,10,88,20,77,30,66,40,55])"
   ]
  },
  {
   "cell_type": "code",
   "execution_count": 38,
   "id": "6353c658",
   "metadata": {
    "scrolled": false
   },
   "outputs": [
    {
     "name": "stdout",
     "output_type": "stream",
     "text": [
      "[10 20 30 40 55 66 77 88 99]\n"
     ]
    }
   ],
   "source": [
    "print(np.sort(matriz_10))"
   ]
  },
  {
   "cell_type": "code",
   "execution_count": 39,
   "id": "a2a29be2",
   "metadata": {},
   "outputs": [],
   "source": [
    "matriz_11= np.array([2,3])"
   ]
  },
  {
   "cell_type": "code",
   "execution_count": 41,
   "id": "9e10457e",
   "metadata": {
    "scrolled": true
   },
   "outputs": [
    {
     "name": "stdout",
     "output_type": "stream",
     "text": [
      "[ 8 27]\n"
     ]
    }
   ],
   "source": [
    "print(np.power(matriz_11,3))"
   ]
  },
  {
   "cell_type": "code",
   "execution_count": 42,
   "id": "71efc869",
   "metadata": {},
   "outputs": [],
   "source": [
    "matriz_12= np.array([99,10,88,20,77,30,66,40,55])"
   ]
  },
  {
   "cell_type": "code",
   "execution_count": 44,
   "id": "3fe09bec",
   "metadata": {},
   "outputs": [
    {
     "name": "stdout",
     "output_type": "stream",
     "text": [
      "[ True False  True False  True False  True False  True]\n"
     ]
    }
   ],
   "source": [
    "print(np.array(matriz_12>50))"
   ]
  },
  {
   "cell_type": "code",
   "execution_count": 47,
   "id": "80a5f18d",
   "metadata": {},
   "outputs": [
    {
     "name": "stdout",
     "output_type": "stream",
     "text": [
      "99\n"
     ]
    }
   ],
   "source": [
    "print(np.array(matriz_12.max()))"
   ]
  },
  {
   "cell_type": "code",
   "execution_count": 48,
   "id": "17f4d677",
   "metadata": {},
   "outputs": [
    {
     "name": "stdout",
     "output_type": "stream",
     "text": [
      "10\n"
     ]
    }
   ],
   "source": [
    "print(np.array(matriz_12.min()))"
   ]
  },
  {
   "cell_type": "code",
   "execution_count": 51,
   "id": "20786ec9",
   "metadata": {},
   "outputs": [],
   "source": [
    "matriz_13= np.array([90,11,80,22,70,33,60,44,50])"
   ]
  },
  {
   "cell_type": "code",
   "execution_count": 52,
   "id": "51f14787",
   "metadata": {},
   "outputs": [
    {
     "name": "stdout",
     "output_type": "stream",
     "text": [
      "[99 10 88 20 77 30 66 40 55 90 11 80 22 70 33 60 44 50]\n"
     ]
    }
   ],
   "source": [
    "print(np.concatenate((matriz_12,matriz_13)))"
   ]
  },
  {
   "cell_type": "code",
   "execution_count": 53,
   "id": "697b20fb",
   "metadata": {},
   "outputs": [],
   "source": [
    "m1=np.array([[1,2],[3,4]])"
   ]
  },
  {
   "cell_type": "code",
   "execution_count": 54,
   "id": "35b51ea3",
   "metadata": {},
   "outputs": [],
   "source": [
    "m2=np.array([[5,6],[7,8]])"
   ]
  },
  {
   "cell_type": "code",
   "execution_count": 55,
   "id": "8e5041eb",
   "metadata": {},
   "outputs": [
    {
     "name": "stdout",
     "output_type": "stream",
     "text": [
      "[[ 6  8]\n",
      " [10 12]]\n"
     ]
    }
   ],
   "source": [
    "print(m1+m2)"
   ]
  },
  {
   "cell_type": "code",
   "execution_count": 57,
   "id": "129eb8e1",
   "metadata": {},
   "outputs": [
    {
     "name": "stdout",
     "output_type": "stream",
     "text": [
      "[[19 22]\n",
      " [43 50]]\n"
     ]
    }
   ],
   "source": [
    "print(m1.dot(m2))"
   ]
  },
  {
   "cell_type": "code",
   "execution_count": 77,
   "id": "f3f38869",
   "metadata": {
    "scrolled": true
   },
   "outputs": [
    {
     "name": "stdout",
     "output_type": "stream",
     "text": [
      "9\n"
     ]
    }
   ],
   "source": [
    "m=np.random.randint(10)\n",
    "print(m)"
   ]
  },
  {
   "cell_type": "code",
   "execution_count": 78,
   "id": "db9a6f57",
   "metadata": {
    "scrolled": true
   },
   "outputs": [
    {
     "name": "stdout",
     "output_type": "stream",
     "text": [
      "[2 8 0 2 1]\n"
     ]
    }
   ],
   "source": [
    "m=np.random.randint(10,size=(5))\n",
    "print(m)"
   ]
  },
  {
   "cell_type": "code",
   "execution_count": 79,
   "id": "e5734b2c",
   "metadata": {},
   "outputs": [
    {
     "name": "stdout",
     "output_type": "stream",
     "text": [
      "[[9 3 3]\n",
      " [3 8 5]\n",
      " [9 8 7]]\n"
     ]
    }
   ],
   "source": [
    "m=np.random.randint(10,size=(3,3))\n",
    "print(m)"
   ]
  },
  {
   "cell_type": "code",
   "execution_count": 80,
   "id": "13713ee9",
   "metadata": {
    "scrolled": true
   },
   "outputs": [
    {
     "name": "stdout",
     "output_type": "stream",
     "text": [
      "[0.35663714 0.5205571  0.87219153 0.38702931 0.21464768]\n"
     ]
    }
   ],
   "source": [
    "m=np.random.rand(5)\n",
    "print(m)"
   ]
  },
  {
   "cell_type": "code",
   "execution_count": 82,
   "id": "572e9ae5",
   "metadata": {
    "scrolled": true
   },
   "outputs": [
    {
     "name": "stdout",
     "output_type": "stream",
     "text": [
      "[[0.69169004 0.92888962]\n",
      " [0.24926061 0.99774222]]\n"
     ]
    }
   ],
   "source": [
    "m=np.random.rand(2,2)\n",
    "print(m)"
   ]
  },
  {
   "cell_type": "code",
   "execution_count": 96,
   "id": "deec3af5",
   "metadata": {},
   "outputs": [
    {
     "name": "stdout",
     "output_type": "stream",
     "text": [
      "5\n"
     ]
    }
   ],
   "source": [
    "m=np.random.choice([3,5,9,5,1])\n",
    "print(m)"
   ]
  },
  {
   "cell_type": "code",
   "execution_count": 95,
   "id": "ddd08c88",
   "metadata": {
    "scrolled": true
   },
   "outputs": [
    {
     "name": "stdout",
     "output_type": "stream",
     "text": [
      "[[1 9 1]\n",
      " [5 5 5]]\n"
     ]
    }
   ],
   "source": [
    "m=np.random.choice([3,5,9,5,1], size=(2,3))\n",
    "print(m)"
   ]
  },
  {
   "cell_type": "code",
   "execution_count": 130,
   "id": "b164b3e5",
   "metadata": {},
   "outputs": [
    {
     "name": "stdout",
     "output_type": "stream",
     "text": [
      "[2]\n"
     ]
    }
   ],
   "source": [
    "m=np.random.choice([2,4,6],p=[0.5,0.5,0.0],size=[1])\n",
    "print(m)"
   ]
  },
  {
   "cell_type": "code",
   "execution_count": 142,
   "id": "ca8a176d",
   "metadata": {},
   "outputs": [
    {
     "name": "stdout",
     "output_type": "stream",
     "text": [
      "[ 2  2 10  4 10  4  4 10  4  2  4  2  2  4  8  2  2  2  8  4  2  4  4  2\n",
      "  4 10  4  2  4  2  4  2  4 10  4  4  2  4  2  4  8  4  4 10 10  4  4  2\n",
      "  4 10]\n"
     ]
    }
   ],
   "source": [
    "m=np.random.choice([2,4,8,10],p=[0.3,0.5,0.1,0.1],size=[50])\n",
    "print(m)"
   ]
  },
  {
   "cell_type": "code",
   "execution_count": 144,
   "id": "3cabc689",
   "metadata": {
    "scrolled": true
   },
   "outputs": [
    {
     "name": "stdout",
     "output_type": "stream",
     "text": [
      "[[0 1 2]\n",
      " [4 2 3]]\n",
      "\n",
      "\n",
      "[4 3 5]\n"
     ]
    }
   ],
   "source": [
    "m=np.array([[0,1,2],[4,2,3]])\n",
    "print(m)\n",
    "print(\"\\n\")\n",
    "print(np.sum(m,axis=0))"
   ]
  },
  {
   "cell_type": "code",
   "execution_count": 145,
   "id": "e28abbb8",
   "metadata": {},
   "outputs": [
    {
     "name": "stdout",
     "output_type": "stream",
     "text": [
      "[[0 1 2]\n",
      " [4 2 3]]\n",
      "\n",
      "\n",
      "[3 9]\n"
     ]
    }
   ],
   "source": [
    "m=np.array([[0,1,2],[4,2,3]])\n",
    "print(m)\n",
    "print(\"\\n\")\n",
    "print(np.sum(m,axis=1))"
   ]
  },
  {
   "cell_type": "code",
   "execution_count": 149,
   "id": "9a714300",
   "metadata": {
    "scrolled": true
   },
   "outputs": [
    {
     "name": "stdout",
     "output_type": "stream",
     "text": [
      "[[1 1]\n",
      " [1 1]]\n",
      "\n",
      "\n",
      "[[2 2]\n",
      " [2 2]]\n",
      "\n",
      "\n",
      "[[1 1]\n",
      " [1 1]\n",
      " [2 2]\n",
      " [2 2]]\n"
     ]
    }
   ],
   "source": [
    "m=np.array([[1,1],[1,1]])\n",
    "n=np.array([[2,2],[2,2]])\n",
    "print(m)\n",
    "print(\"\\n\")\n",
    "print(n)\n",
    "print(\"\\n\")\n",
    "print(np.concatenate([m,n],axis=0))"
   ]
  },
  {
   "cell_type": "code",
   "execution_count": 150,
   "id": "78e3577c",
   "metadata": {},
   "outputs": [
    {
     "name": "stdout",
     "output_type": "stream",
     "text": [
      "[[1 1]\n",
      " [1 1]]\n",
      "\n",
      "\n",
      "[[2 2]\n",
      " [2 2]]\n",
      "\n",
      "\n",
      "[[1 1 2 2]\n",
      " [1 1 2 2]]\n"
     ]
    }
   ],
   "source": [
    "m=np.array([[1,1],[1,1]])\n",
    "n=np.array([[2,2],[2,2]])\n",
    "print(m)\n",
    "print(\"\\n\")\n",
    "print(n)\n",
    "print(\"\\n\")\n",
    "print(np.concatenate([m,n],axis=1))"
   ]
  },
  {
   "cell_type": "code",
   "execution_count": 153,
   "id": "9013f696",
   "metadata": {},
   "outputs": [
    {
     "name": "stdout",
     "output_type": "stream",
     "text": [
      "[1 1]\n",
      "\n",
      "\n",
      "[2 2]\n",
      "\n",
      "\n",
      "[1 1 2 2]\n"
     ]
    }
   ],
   "source": [
    "m=np.array([1,1])\n",
    "n=np.array([2,2])\n",
    "print(m)\n",
    "print(\"\\n\")\n",
    "print(n)\n",
    "print(\"\\n\")\n",
    "print(np.concatenate([m,n],axis=0))"
   ]
  },
  {
   "cell_type": "code",
   "execution_count": 159,
   "id": "f80f22e3",
   "metadata": {
    "scrolled": true
   },
   "outputs": [
    {
     "name": "stdout",
     "output_type": "stream",
     "text": [
      "[[1 2 3]\n",
      " [4 5 6]\n",
      " [7 8 9]]\n",
      "\n",
      "\n",
      "1\n"
     ]
    }
   ],
   "source": [
    "n=np.array([[1,2,3],[4,5,6],[7,8,9]])\n",
    "print(n)\n",
    "print(\"\\n\")\n",
    "print(np.amin(n))"
   ]
  },
  {
   "cell_type": "code",
   "execution_count": 158,
   "id": "da6e0c03",
   "metadata": {},
   "outputs": [
    {
     "name": "stdout",
     "output_type": "stream",
     "text": [
      "[[1 2 3]\n",
      " [4 5 6]\n",
      " [7 8 9]]\n",
      "\n",
      "\n",
      "9\n"
     ]
    }
   ],
   "source": [
    "n=np.array([[1,2,3],[4,5,6],[7,8,9]])\n",
    "print(n)\n",
    "print(\"\\n\")\n",
    "print(np.amax(n))"
   ]
  },
  {
   "cell_type": "code",
   "execution_count": 160,
   "id": "5bdbe34c",
   "metadata": {
    "scrolled": true
   },
   "outputs": [
    {
     "name": "stdout",
     "output_type": "stream",
     "text": [
      "[[1 2 3]\n",
      " [4 5 6]\n",
      " [7 8 9]]\n",
      "\n",
      "\n",
      "[1 4 7]\n"
     ]
    }
   ],
   "source": [
    "n=np.array([[1,2,3],[4,5,6],[7,8,9]])\n",
    "print(n)\n",
    "print(\"\\n\")\n",
    "print(np.amin(n,1))"
   ]
  },
  {
   "cell_type": "code",
   "execution_count": 161,
   "id": "e819b925",
   "metadata": {
    "scrolled": true
   },
   "outputs": [
    {
     "name": "stdout",
     "output_type": "stream",
     "text": [
      "[[1 2 3]\n",
      " [4 5 6]\n",
      " [7 8 9]]\n",
      "\n",
      "\n",
      "8\n"
     ]
    }
   ],
   "source": [
    "n=np.array([[1,2,3],[4,5,6],[7,8,9]])\n",
    "print(n)\n",
    "print(\"\\n\")\n",
    "print(np.ptp(n))"
   ]
  },
  {
   "cell_type": "code",
   "execution_count": 162,
   "id": "c6644bfd",
   "metadata": {},
   "outputs": [
    {
     "name": "stdout",
     "output_type": "stream",
     "text": [
      "[[1 2 3]\n",
      " [4 5 6]\n",
      " [7 8 9]]\n",
      "\n",
      "\n",
      "[2 2 2]\n"
     ]
    }
   ],
   "source": [
    "n=np.array([[1,2,3],[4,5,6],[7,8,9]])\n",
    "print(n)\n",
    "print(\"\\n\")\n",
    "print(np.ptp(n,axis=1))"
   ]
  },
  {
   "cell_type": "code",
   "execution_count": 163,
   "id": "ed582984",
   "metadata": {
    "scrolled": true
   },
   "outputs": [
    {
     "name": "stdout",
     "output_type": "stream",
     "text": [
      "[[1 2 3]\n",
      " [4 5 6]\n",
      " [7 8 9]]\n",
      "\n",
      "\n",
      "5.0\n"
     ]
    }
   ],
   "source": [
    "n=np.array([[1,2,3],[4,5,6],[7,8,9]])\n",
    "print(n)\n",
    "print(\"\\n\")\n",
    "print(np.percentile(n,50))"
   ]
  },
  {
   "cell_type": "code",
   "execution_count": 164,
   "id": "b844ad20",
   "metadata": {},
   "outputs": [
    {
     "name": "stdout",
     "output_type": "stream",
     "text": [
      "[[1 2 3]\n",
      " [4 5 6]\n",
      " [7 8 9]]\n",
      "\n",
      "\n",
      "[2. 5. 8.]\n"
     ]
    }
   ],
   "source": [
    "n=np.array([[1,2,3],[4,5,6],[7,8,9]])\n",
    "print(n)\n",
    "print(\"\\n\")\n",
    "print(np.percentile(n,50,axis=1))"
   ]
  },
  {
   "cell_type": "code",
   "execution_count": 165,
   "id": "fc43d128",
   "metadata": {
    "scrolled": true
   },
   "outputs": [
    {
     "name": "stdout",
     "output_type": "stream",
     "text": [
      "[[1 2 3]\n",
      " [4 5 6]\n",
      " [7 8 9]]\n",
      "\n",
      "\n",
      "5.0\n"
     ]
    }
   ],
   "source": [
    "n=np.array([[1,2,3],[4,5,6],[7,8,9]])\n",
    "print(n)\n",
    "print(\"\\n\")\n",
    "print(np.median(n))"
   ]
  },
  {
   "cell_type": "code",
   "execution_count": 166,
   "id": "40abcb5f",
   "metadata": {
    "scrolled": true
   },
   "outputs": [
    {
     "name": "stdout",
     "output_type": "stream",
     "text": [
      "[[1 2 3]\n",
      " [4 5 6]\n",
      " [7 8 9]]\n",
      "\n",
      "\n",
      "[4. 5. 6.]\n"
     ]
    }
   ],
   "source": [
    "n=np.array([[1,2,3],[4,5,6],[7,8,9]])\n",
    "print(n)\n",
    "print(\"\\n\")\n",
    "print(np.median(n,axis=0))"
   ]
  },
  {
   "cell_type": "code",
   "execution_count": 167,
   "id": "78869f82",
   "metadata": {
    "scrolled": true
   },
   "outputs": [
    {
     "name": "stdout",
     "output_type": "stream",
     "text": [
      "[[1 2 3]\n",
      " [4 5 6]\n",
      " [7 8 9]]\n",
      "\n",
      "\n",
      "5.0\n"
     ]
    }
   ],
   "source": [
    "n=np.array([[1,2,3],[4,5,6],[7,8,9]])\n",
    "print(n)\n",
    "print(\"\\n\")\n",
    "print(np.mean(n))"
   ]
  },
  {
   "cell_type": "code",
   "execution_count": 168,
   "id": "c359c5c7",
   "metadata": {
    "scrolled": true
   },
   "outputs": [
    {
     "name": "stdout",
     "output_type": "stream",
     "text": [
      "[[1 2 3]\n",
      " [4 5 6]\n",
      " [7 8 9]]\n",
      "\n",
      "\n",
      "[4. 5. 6.]\n"
     ]
    }
   ],
   "source": [
    "n=np.array([[1,2,3],[4,5,6],[7,8,9]])\n",
    "print(n)\n",
    "print(\"\\n\")\n",
    "print(np.mean(n,axis=0))"
   ]
  },
  {
   "cell_type": "code",
   "execution_count": 171,
   "id": "5c434796",
   "metadata": {
    "scrolled": true
   },
   "outputs": [
    {
     "name": "stdout",
     "output_type": "stream",
     "text": [
      "[1 2 3 4 5 6]\n",
      "\n",
      "\n",
      "3.5\n"
     ]
    }
   ],
   "source": [
    "n=np.array([1,2,3,4,5,6])\n",
    "print(n)\n",
    "print(\"\\n\")\n",
    "print(np.average(n))"
   ]
  },
  {
   "cell_type": "code",
   "execution_count": 172,
   "id": "d6d477a5",
   "metadata": {
    "scrolled": true
   },
   "outputs": [
    {
     "name": "stdout",
     "output_type": "stream",
     "text": [
      "[1 2 3 4 5 6]\n",
      "\n",
      "\n",
      "1.707825127659933\n"
     ]
    }
   ],
   "source": [
    "n=np.array([1,2,3,4,5,6])\n",
    "print(n)\n",
    "print(\"\\n\")\n",
    "print(np.std(n))"
   ]
  },
  {
   "cell_type": "code",
   "execution_count": 177,
   "id": "adaa465d",
   "metadata": {
    "scrolled": true
   },
   "outputs": [
    {
     "name": "stdout",
     "output_type": "stream",
     "text": [
      "[[ 1 -1  2]\n",
      " [ 3  2  0]]\n",
      "\n",
      "\n",
      "[[1]\n",
      " [2]\n",
      " [3]]\n",
      "\n",
      "\n",
      "[[1 2 3]]\n"
     ]
    }
   ],
   "source": [
    "m=np.array([[1,-1,2],[3,2,0]])\n",
    "print(m)\n",
    "print(\"\\n\")\n",
    "m1=np.array([[1],[2],[3]])\n",
    "print(m1)\n",
    "print(\"\\n\")\n",
    "print(np.transpose(m1))"
   ]
  },
  {
   "cell_type": "code",
   "execution_count": 185,
   "id": "6d9c59bd",
   "metadata": {
    "scrolled": true
   },
   "outputs": [
    {
     "name": "stdout",
     "output_type": "stream",
     "text": [
      "[[ 2  1 -2]\n",
      " [ 3  0  1]\n",
      " [ 1  1 -1]]\n",
      "\n",
      "\n",
      "[[-3]\n",
      " [ 5]\n",
      " [-2]]\n",
      "\n",
      "\n",
      "[[-3  5 -2]]\n",
      "\n",
      "\n",
      "[[ 1.]\n",
      " [-1.]\n",
      " [ 2.]]\n"
     ]
    }
   ],
   "source": [
    "ma=np.array([[2,1,-2],[3,0,1],[1,1,-1]])\n",
    "print(ma)\n",
    "print(\"\\n\")\n",
    "mb=np.array([[-3],[5],[-2]])\n",
    "print(mb)\n",
    "print(\"\\n\")\n",
    "print(np.transpose(mb))\n",
    "print(\"\\n\")\n",
    "x=np.linalg.solve(ma,mb)\n",
    "print(x)"
   ]
  },
  {
   "cell_type": "code",
   "execution_count": 188,
   "id": "ea522df1",
   "metadata": {},
   "outputs": [
    {
     "name": "stdout",
     "output_type": "stream",
     "text": [
      "[[ 2  1 -2]\n",
      " [ 3  0  1]\n",
      " [ 1  1 -1]]\n",
      "\n",
      "\n",
      "[[-3]\n",
      " [ 5]\n",
      " [-2]]\n",
      "\n",
      "\n",
      "[[-3  5 -2]]\n",
      "\n",
      "\n",
      "[[ 1.]\n",
      " [-1.]\n",
      " [ 2.]]\n",
      "\n",
      "\n",
      "True\n"
     ]
    }
   ],
   "source": [
    "ma=np.array([[2,1,-2],[3,0,1],[1,1,-1]])\n",
    "print(ma)\n",
    "print(\"\\n\")\n",
    "mb=np.array([[-3],[5],[-2]])\n",
    "print(mb)\n",
    "print(\"\\n\")\n",
    "print(np.transpose(mb))\n",
    "print(\"\\n\")\n",
    "x=np.linalg.solve(ma,mb)\n",
    "print(x)\n",
    "print(\"\\n\")\n",
    "print(np.allclose(np.dot(ma,x),mb))"
   ]
  },
  {
   "cell_type": "code",
   "execution_count": 198,
   "id": "782858df",
   "metadata": {},
   "outputs": [
    {
     "name": "stdout",
     "output_type": "stream",
     "text": [
      "[[2 7 3]\n",
      " [2 8 2]\n",
      " [1 3 1]]\n",
      "\n",
      "\n",
      "[[1]\n",
      " [1]\n",
      " [0]]\n",
      "\n",
      "\n",
      "[[-2. ]\n",
      " [ 0.5]\n",
      " [ 0.5]]\n"
     ]
    }
   ],
   "source": [
    "m1=np.array([[2,7,3],[2,8,2],[1,3,1]])\n",
    "print(m1)\n",
    "print(\"\\n\")\n",
    "m2=np.array([1,1,0])\n",
    "m2.shape=(3,1)\n",
    "print(m2)\n",
    "print(\"\\n\")\n",
    "print(np.linalg.solve(m1,m2))"
   ]
  }
 ],
 "metadata": {
  "kernelspec": {
   "display_name": "Python 3 (ipykernel)",
   "language": "python",
   "name": "python3"
  },
  "language_info": {
   "codemirror_mode": {
    "name": "ipython",
    "version": 3
   },
   "file_extension": ".py",
   "mimetype": "text/x-python",
   "name": "python",
   "nbconvert_exporter": "python",
   "pygments_lexer": "ipython3",
   "version": "3.11.4"
  }
 },
 "nbformat": 4,
 "nbformat_minor": 5
}
