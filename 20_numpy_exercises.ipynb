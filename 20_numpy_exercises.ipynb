{
 "cells": [
  {
   "cell_type": "markdown",
   "id": "8294c7c1",
   "metadata": {},
   "source": [
    "# 20 numpy exercises"
   ]
  },
  {
   "cell_type": "markdown",
   "id": "049c361f",
   "metadata": {},
   "source": [
    "This is a collection of exercises that have been collected in the numpy mailing list, on stack overflow and in the numpy documentation. The goal of this collection is to offer a quick reference for both old and new users but also to provide a set of exercises for those who teach."
   ]
  },
  {
   "cell_type": "markdown",
   "id": "fe9942ad",
   "metadata": {},
   "source": [
    "### 1. Import the numpy package under the name np (★☆☆)"
   ]
  },
  {
   "cell_type": "code",
   "execution_count": 8,
   "id": "81fff3d7",
   "metadata": {},
   "outputs": [],
   "source": [
    "import numpy as np"
   ]
  },
  {
   "cell_type": "markdown",
   "id": "3af8f874",
   "metadata": {},
   "source": [
    "### 2. Print the numpy version and the configuration (★☆☆)"
   ]
  },
  {
   "cell_type": "code",
   "execution_count": 24,
   "id": "72c93b62",
   "metadata": {
    "scrolled": false
   },
   "outputs": [
    {
     "name": "stdout",
     "output_type": "stream",
     "text": [
      "1.24.3\n",
      "\n",
      "\n"
     ]
    }
   ],
   "source": [
    "print(np.version.version)\n",
    "print(\"\\n\")\n"
   ]
  },
  {
   "cell_type": "code",
   "execution_count": 25,
   "id": "3548be79",
   "metadata": {},
   "outputs": [
    {
     "name": "stdout",
     "output_type": "stream",
     "text": [
      "blas_armpl_info:\n",
      "  NOT AVAILABLE\n",
      "blas_mkl_info:\n",
      "    libraries = ['mkl_rt']\n",
      "    library_dirs = ['C:/Users/ro_be/anaconda3\\\\Library\\\\lib']\n",
      "    define_macros = [('SCIPY_MKL_H', None), ('HAVE_CBLAS', None)]\n",
      "    include_dirs = ['C:/Users/ro_be/anaconda3\\\\Library\\\\include']\n",
      "blas_opt_info:\n",
      "    libraries = ['mkl_rt']\n",
      "    library_dirs = ['C:/Users/ro_be/anaconda3\\\\Library\\\\lib']\n",
      "    define_macros = [('SCIPY_MKL_H', None), ('HAVE_CBLAS', None)]\n",
      "    include_dirs = ['C:/Users/ro_be/anaconda3\\\\Library\\\\include']\n",
      "lapack_armpl_info:\n",
      "  NOT AVAILABLE\n",
      "lapack_mkl_info:\n",
      "    libraries = ['mkl_rt']\n",
      "    library_dirs = ['C:/Users/ro_be/anaconda3\\\\Library\\\\lib']\n",
      "    define_macros = [('SCIPY_MKL_H', None), ('HAVE_CBLAS', None)]\n",
      "    include_dirs = ['C:/Users/ro_be/anaconda3\\\\Library\\\\include']\n",
      "lapack_opt_info:\n",
      "    libraries = ['mkl_rt']\n",
      "    library_dirs = ['C:/Users/ro_be/anaconda3\\\\Library\\\\lib']\n",
      "    define_macros = [('SCIPY_MKL_H', None), ('HAVE_CBLAS', None)]\n",
      "    include_dirs = ['C:/Users/ro_be/anaconda3\\\\Library\\\\include']\n",
      "Supported SIMD extensions in this NumPy install:\n",
      "    baseline = SSE,SSE2,SSE3\n",
      "    found = SSSE3,SSE41,POPCNT,SSE42,AVX,F16C,FMA3,AVX2,AVX512F,AVX512CD,AVX512_SKX,AVX512_CLX,AVX512_CNL,AVX512_ICL\n",
      "    not found = \n",
      "None\n",
      "\n",
      "\n"
     ]
    }
   ],
   "source": [
    "print(np.show_config())\n",
    "print(\"\\n\")"
   ]
  },
  {
   "cell_type": "markdown",
   "id": "75aa7720",
   "metadata": {},
   "source": [
    "### 3. Create a null vector of size 10 (★☆☆)"
   ]
  },
  {
   "cell_type": "code",
   "execution_count": 14,
   "id": "492bc746",
   "metadata": {},
   "outputs": [
    {
     "name": "stdout",
     "output_type": "stream",
     "text": [
      "[0. 0. 0. 0. 0. 0. 0. 0. 0. 0.]\n"
     ]
    }
   ],
   "source": [
    "vector_10=np.zeros(10)\n",
    "print(vector_10)"
   ]
  },
  {
   "cell_type": "markdown",
   "id": "3338628c",
   "metadata": {},
   "source": [
    "### 4. How to find the memory size of any array (★☆☆)"
   ]
  },
  {
   "cell_type": "code",
   "execution_count": 18,
   "id": "8898e293",
   "metadata": {},
   "outputs": [
    {
     "name": "stdout",
     "output_type": "stream",
     "text": [
      "24\n"
     ]
    }
   ],
   "source": [
    "memory_array=np.array([1,2,3,4,5,6])\n",
    "print((memory_array.itemsize)*(memory_array.size))"
   ]
  },
  {
   "cell_type": "markdown",
   "id": "9625c7cf",
   "metadata": {},
   "source": [
    "### 5. How to get the documentation of the numpy add function from the command line? (★☆☆)"
   ]
  },
  {
   "cell_type": "code",
   "execution_count": 27,
   "id": "9bbb8d5f",
   "metadata": {
    "scrolled": true
   },
   "outputs": [
    {
     "name": "stdout",
     "output_type": "stream",
     "text": [
      "add(x1, x2, /, out=None, *, where=True, casting='same_kind', order='K', dtype=None, subok=True[, signature, extobj])\n",
      "\n",
      "Add arguments element-wise.\n",
      "\n",
      "Parameters\n",
      "----------\n",
      "x1, x2 : array_like\n",
      "    The arrays to be added.\n",
      "    If ``x1.shape != x2.shape``, they must be broadcastable to a common\n",
      "    shape (which becomes the shape of the output).\n",
      "out : ndarray, None, or tuple of ndarray and None, optional\n",
      "    A location into which the result is stored. If provided, it must have\n",
      "    a shape that the inputs broadcast to. If not provided or None,\n",
      "    a freshly-allocated array is returned. A tuple (possible only as a\n",
      "    keyword argument) must have length equal to the number of outputs.\n",
      "where : array_like, optional\n",
      "    This condition is broadcast over the input. At locations where the\n",
      "    condition is True, the `out` array will be set to the ufunc result.\n",
      "    Elsewhere, the `out` array will retain its original value.\n",
      "    Note that if an uninitialized `out` array is created via the default\n",
      "    ``out=None``, locations within it where the condition is False will\n",
      "    remain uninitialized.\n",
      "**kwargs\n",
      "    For other keyword-only arguments, see the\n",
      "    :ref:`ufunc docs <ufuncs.kwargs>`.\n",
      "\n",
      "Returns\n",
      "-------\n",
      "add : ndarray or scalar\n",
      "    The sum of `x1` and `x2`, element-wise.\n",
      "    This is a scalar if both `x1` and `x2` are scalars.\n",
      "\n",
      "Notes\n",
      "-----\n",
      "Equivalent to `x1` + `x2` in terms of array broadcasting.\n",
      "\n",
      "Examples\n",
      "--------\n",
      ">>> np.add(1.0, 4.0)\n",
      "5.0\n",
      ">>> x1 = np.arange(9.0).reshape((3, 3))\n",
      ">>> x2 = np.arange(3.0)\n",
      ">>> np.add(x1, x2)\n",
      "array([[  0.,   2.,   4.],\n",
      "       [  3.,   5.,   7.],\n",
      "       [  6.,   8.,  10.]])\n",
      "\n",
      "The ``+`` operator can be used as a shorthand for ``np.add`` on ndarrays.\n",
      "\n",
      ">>> x1 = np.arange(9.0).reshape((3, 3))\n",
      ">>> x2 = np.arange(3.0)\n",
      ">>> x1 + x2\n",
      "array([[ 0.,  2.,  4.],\n",
      "       [ 3.,  5.,  7.],\n",
      "       [ 6.,  8., 10.]])\n",
      "None\n",
      "\n",
      "\n"
     ]
    }
   ],
   "source": [
    "print(np.info(np.add))\n",
    "print(\"\\n\")"
   ]
  },
  {
   "cell_type": "markdown",
   "id": "57d9d7d9",
   "metadata": {},
   "source": [
    "### 6. Create a null vector of size 10 but the fifth value which is 1 (★☆☆)"
   ]
  },
  {
   "cell_type": "code",
   "execution_count": 31,
   "id": "70e90ad3",
   "metadata": {},
   "outputs": [
    {
     "name": "stdout",
     "output_type": "stream",
     "text": [
      "[0. 0. 0. 0. 0. 0. 0. 0. 0. 0.]\n",
      "\n",
      "\n",
      "[0. 0. 0. 0. 1. 0. 0. 0. 0. 0.]\n",
      "\n",
      "\n"
     ]
    }
   ],
   "source": [
    "vector_10_null=np.zeros(10)\n",
    "print(vector_10_null)\n",
    "print(\"\\n\")\n",
    "vector_10_null[4]=1\n",
    "print(vector_10_null)\n",
    "print(\"\\n\")"
   ]
  },
  {
   "cell_type": "markdown",
   "id": "097fb989",
   "metadata": {},
   "source": [
    "### 7. Create a vector with values ranging from 10 to 49 (★☆☆)"
   ]
  },
  {
   "cell_type": "code",
   "execution_count": 36,
   "id": "59e65bac",
   "metadata": {
    "scrolled": true
   },
   "outputs": [
    {
     "name": "stdout",
     "output_type": "stream",
     "text": [
      "[10 11 12 13 14 15 16 17 18 19 20 21 22 23 24 25 26 27 28 29 30 31 32 33\n",
      " 34 35 36 37 38 39 40 41 42 43 44 45 46 47 48 49]\n"
     ]
    }
   ],
   "source": [
    "vector_10_49=np.arange(10,50)\n",
    "print(vector_10_49)"
   ]
  },
  {
   "cell_type": "markdown",
   "id": "835aabab",
   "metadata": {},
   "source": [
    "### 8. Reverse a vector (first element becomes last) (★☆☆)"
   ]
  },
  {
   "cell_type": "code",
   "execution_count": 40,
   "id": "cc3e87c0",
   "metadata": {},
   "outputs": [
    {
     "name": "stdout",
     "output_type": "stream",
     "text": [
      "[1 2 3 4 5 6]\n",
      "\n",
      "\n",
      "[6 5 4 3 2 1]\n",
      "\n",
      "\n"
     ]
    }
   ],
   "source": [
    "flip_array=np.array([1,2,3,4,5,6])\n",
    "print(flip_array)\n",
    "print(\"\\n\")\n",
    "flipped_array=np.flip(flip_array)\n",
    "print(flipped_array)\n",
    "print(\"\\n\")\n"
   ]
  },
  {
   "cell_type": "markdown",
   "id": "e2a78701",
   "metadata": {},
   "source": [
    "### 9. Create a 3x3 matrix with values ranging from 0 to 8 (★☆☆)"
   ]
  },
  {
   "cell_type": "code",
   "execution_count": 9,
   "id": "e57a0fda",
   "metadata": {},
   "outputs": [
    {
     "name": "stdout",
     "output_type": "stream",
     "text": [
      "[[0 1 2]\n",
      " [3 4 5]\n",
      " [6 7 8]]\n"
     ]
    }
   ],
   "source": [
    "array=np.arange(9).reshape(3,3)\n",
    "print(array)"
   ]
  },
  {
   "cell_type": "markdown",
   "id": "b0f8d110",
   "metadata": {},
   "source": [
    "### 10. Find indices of non-zero elements from [1,2,0,0,4,0] (★☆☆)"
   ]
  },
  {
   "cell_type": "code",
   "execution_count": 11,
   "id": "4a6e3e6e",
   "metadata": {
    "scrolled": true
   },
   "outputs": [
    {
     "name": "stdout",
     "output_type": "stream",
     "text": [
      "(array([0, 0, 0], dtype=int64), array([0, 1, 4], dtype=int64))\n"
     ]
    }
   ],
   "source": [
    "arr=np.nonzero([[1,2,0,0,4,0]])\n",
    "print(arr)"
   ]
  },
  {
   "cell_type": "markdown",
   "id": "8ed4d6d5",
   "metadata": {},
   "source": [
    "### 11. Create a 3x3 identity matrix (★☆☆)"
   ]
  },
  {
   "cell_type": "code",
   "execution_count": 12,
   "id": "e9ddd777",
   "metadata": {
    "scrolled": true
   },
   "outputs": [
    {
     "name": "stdout",
     "output_type": "stream",
     "text": [
      "[[1. 0. 0.]\n",
      " [0. 1. 0.]\n",
      " [0. 0. 1.]]\n"
     ]
    }
   ],
   "source": [
    "arr=np.identity(3)\n",
    "print(arr)"
   ]
  },
  {
   "cell_type": "markdown",
   "id": "b2963aff",
   "metadata": {},
   "source": [
    "### 12. Create a 3x3x3 array with random values (★☆☆)"
   ]
  },
  {
   "cell_type": "code",
   "execution_count": 13,
   "id": "30856de6",
   "metadata": {},
   "outputs": [
    {
     "name": "stdout",
     "output_type": "stream",
     "text": [
      "[[0.35844986 0.05874508 0.63778238]\n",
      " [0.50502486 0.48272918 0.85425083]\n",
      " [0.3518003  0.29087052 0.0829437 ]]\n"
     ]
    }
   ],
   "source": [
    "random_arr=np.random.rand(3,3)\n",
    "print(random_arr)"
   ]
  },
  {
   "cell_type": "markdown",
   "id": "27e07144",
   "metadata": {},
   "source": [
    "### 13. Create a 10x10 array with random values and find the minimum and maximum values (★☆☆)"
   ]
  },
  {
   "cell_type": "code",
   "execution_count": 17,
   "id": "87baf992",
   "metadata": {},
   "outputs": [
    {
     "name": "stdout",
     "output_type": "stream",
     "text": [
      "[[0.8539531  0.85247242 0.07676875 0.872591   0.95080206 0.82613884\n",
      "  0.32063351 0.64286723 0.33218733 0.89180617]\n",
      " [0.24282906 0.25154044 0.12314442 0.24775024 0.77860056 0.22186973\n",
      "  0.62912031 0.85526634 0.74697393 0.08511624]\n",
      " [0.86027124 0.04851423 0.14278438 0.9087309  0.60144398 0.7369875\n",
      "  0.027819   0.43842554 0.60850556 0.93832224]\n",
      " [0.11964745 0.77862154 0.26363848 0.87735539 0.32928889 0.26577198\n",
      "  0.41831104 0.10219754 0.09154913 0.68764867]\n",
      " [0.09927829 0.06861856 0.93777887 0.44501301 0.41152253 0.01244086\n",
      "  0.19632504 0.89178204 0.70758226 0.14981079]\n",
      " [0.02600589 0.42781607 0.28347327 0.47379592 0.20788053 0.74876934\n",
      "  0.16094754 0.88990023 0.6810303  0.55307381]\n",
      " [0.66468085 0.75222623 0.33734059 0.53362554 0.82806472 0.9331586\n",
      "  0.39758106 0.02151264 0.00965454 0.98539634]\n",
      " [0.98654928 0.77062803 0.36341845 0.44315118 0.31647031 0.25944137\n",
      "  0.34824208 0.91827899 0.77252076 0.40090919]\n",
      " [0.66114377 0.26547951 0.36637786 0.53755079 0.05918792 0.34754916\n",
      "  0.42725345 0.29260758 0.88748901 0.00969653]\n",
      " [0.19924124 0.04919251 0.446573   0.99494961 0.98752586 0.29331876\n",
      "  0.36073512 0.92036124 0.50041589 0.7920816 ]]\n",
      "\n",
      "\n",
      "0.9949496068953522\n",
      "\n",
      "\n",
      "0.009654540720511418\n"
     ]
    }
   ],
   "source": [
    "random_arr=np.random.rand(10,10)\n",
    "print(random_arr)\n",
    "print(\"\\n\")\n",
    "print(random_arr.max())\n",
    "print(\"\\n\")\n",
    "print(random_arr.min())"
   ]
  },
  {
   "cell_type": "markdown",
   "id": "124c860c",
   "metadata": {},
   "source": [
    "### 14. Create a random vector of size 30 and find the mean value (★☆☆)"
   ]
  },
  {
   "cell_type": "code",
   "execution_count": 18,
   "id": "a041c0bd",
   "metadata": {},
   "outputs": [
    {
     "name": "stdout",
     "output_type": "stream",
     "text": [
      "[[0.30965196 0.71912647 0.62648375 0.91439475 0.67959018 0.77141159\n",
      "  0.28590035 0.27515872 0.03575334 0.92415951 0.64503644 0.90595151\n",
      "  0.45061614 0.22675197 0.246099   0.9389687  0.35283644 0.24470285\n",
      "  0.67938331 0.86799376 0.52146235 0.30744773 0.41505266 0.80185194\n",
      "  0.03671952 0.51419452 0.57704269 0.06983171 0.9942575  0.41990584]\n",
      " [0.44462704 0.40309237 0.22213333 0.38842598 0.33163157 0.8284786\n",
      "  0.40459277 0.02459591 0.42372949 0.60641475 0.1050847  0.24160928\n",
      "  0.18239919 0.57108164 0.8093366  0.26060953 0.94509254 0.70374423\n",
      "  0.24466881 0.59776953 0.44153681 0.37408811 0.77817003 0.00273311\n",
      "  0.72170801 0.48926789 0.06217806 0.5599333  0.7073889  0.491253  ]\n",
      " [0.89354166 0.36198431 0.84321501 0.01398842 0.21801344 0.32470134\n",
      "  0.55886127 0.76481486 0.10188887 0.94853276 0.16640816 0.59926913\n",
      "  0.41560255 0.90812813 0.02140141 0.05465374 0.98469977 0.06169107\n",
      "  0.6029532  0.65990317 0.0960929  0.70352015 0.82773479 0.91009954\n",
      "  0.10118846 0.23954621 0.53598571 0.20078767 0.98063516 0.04985907]\n",
      " [0.61450844 0.5260202  0.75238244 0.88783706 0.95822745 0.33282459\n",
      "  0.40884985 0.26699757 0.13538306 0.65401858 0.39994466 0.35427409\n",
      "  0.3502006  0.80842474 0.3613298  0.25691276 0.47269535 0.50579906\n",
      "  0.35001116 0.08057036 0.10701643 0.81327988 0.5312978  0.39678013\n",
      "  0.10116957 0.58618492 0.62301178 0.32894614 0.84167421 0.58404407]\n",
      " [0.97868852 0.93896963 0.07652411 0.84634832 0.04318898 0.36338152\n",
      "  0.36614613 0.23666841 0.0594094  0.78445054 0.97254957 0.01336566\n",
      "  0.57002183 0.13148412 0.45863505 0.53877431 0.49660319 0.69036896\n",
      "  0.37620879 0.37914309 0.43529037 0.47980154 0.07162208 0.55587179\n",
      "  0.93044548 0.79256396 0.11846957 0.21521516 0.017838   0.11529323]\n",
      " [0.66905562 0.83143693 0.41381681 0.16075976 0.83095816 0.54055539\n",
      "  0.65947324 0.36587225 0.88662365 0.79782439 0.28902612 0.45845602\n",
      "  0.83122728 0.66462602 0.07906451 0.86758114 0.96457584 0.20807235\n",
      "  0.08542942 0.10003658 0.54326494 0.80279397 0.29865231 0.59517925\n",
      "  0.11244219 0.72078177 0.64859152 0.25093506 0.36993716 0.10356472]\n",
      " [0.27890722 0.63341046 0.36076324 0.01697287 0.05686669 0.90694458\n",
      "  0.62874612 0.06725653 0.31013462 0.10209895 0.54121035 0.02079499\n",
      "  0.6420355  0.90999468 0.93722525 0.10548351 0.64637886 0.01997104\n",
      "  0.53346591 0.63389505 0.2113483  0.82925401 0.40697701 0.18978023\n",
      "  0.95168077 0.80971134 0.54890297 0.18651843 0.41806096 0.88584491]\n",
      " [0.2494783  0.96763914 0.68423252 0.98027053 0.55439864 0.41003662\n",
      "  0.95008374 0.74800815 0.54816353 0.47893139 0.57215921 0.09335588\n",
      "  0.64902989 0.89805017 0.64136548 0.37004129 0.43181668 0.54223121\n",
      "  0.42566564 0.83453036 0.61518454 0.21189583 0.73366056 0.49658186\n",
      "  0.40505954 0.73852717 0.38147809 0.58122753 0.95865616 0.3418237 ]\n",
      " [0.31077894 0.85087233 0.83016142 0.62905457 0.05821317 0.09808208\n",
      "  0.86652686 0.54463723 0.79568557 0.92524526 0.5533094  0.45868104\n",
      "  0.37752109 0.07226331 0.88289902 0.27480159 0.23281472 0.12010778\n",
      "  0.38649622 0.22686461 0.23364219 0.9664947  0.44389196 0.00987742\n",
      "  0.59099512 0.15532558 0.42881075 0.24655878 0.15267112 0.25557106]\n",
      " [0.36051541 0.90247834 0.68097541 0.55859628 0.75462093 0.84124288\n",
      "  0.9648559  0.06227902 0.99950669 0.43101879 0.69924211 0.99251781\n",
      "  0.1271567  0.5978702  0.1917203  0.47922903 0.46982441 0.62043413\n",
      "  0.8636493  0.95494894 0.36611877 0.32845966 0.45641895 0.17926025\n",
      "  0.17351998 0.24366262 0.55956214 0.0689013  0.61217145 0.17590588]\n",
      " [0.07416103 0.93867692 0.24647596 0.13351651 0.5747455  0.78629119\n",
      "  0.15554865 0.60662486 0.62379843 0.03355782 0.10370055 0.16023249\n",
      "  0.04597144 0.13412533 0.52408184 0.86051305 0.8650666  0.12753312\n",
      "  0.74333352 0.89334374 0.92035273 0.7362279  0.84057897 0.25066131\n",
      "  0.66969591 0.76937889 0.30435858 0.48066258 0.05795723 0.61208049]\n",
      " [0.84236673 0.70533516 0.26589773 0.47623306 0.60168122 0.81353098\n",
      "  0.9574353  0.78329794 0.99001695 0.31682335 0.99288338 0.76749165\n",
      "  0.66739312 0.58872282 0.77478108 0.1905521  0.86770446 0.22574051\n",
      "  0.45624342 0.76968034 0.898331   0.62276335 0.985522   0.18443082\n",
      "  0.10506456 0.69220353 0.97507492 0.52140475 0.47222941 0.38588942]\n",
      " [0.21402662 0.49953626 0.72696503 0.2069331  0.97955536 0.19088494\n",
      "  0.77150475 0.85765913 0.90231174 0.49838884 0.94305059 0.60256292\n",
      "  0.5422503  0.5649583  0.75521642 0.23745022 0.53123084 0.48106727\n",
      "  0.71367929 0.98980232 0.89356917 0.75087098 0.94058315 0.08844954\n",
      "  0.9722053  0.64361275 0.18984213 0.97629202 0.24665602 0.41290486]\n",
      " [0.42450118 0.28634861 0.51486586 0.3803284  0.82730465 0.73896507\n",
      "  0.61933429 0.48732289 0.83813758 0.42491672 0.74029343 0.93636474\n",
      "  0.21623331 0.67798912 0.35615061 0.35824981 0.71706737 0.74686273\n",
      "  0.76205768 0.49201086 0.70245598 0.20709046 0.54146435 0.2261123\n",
      "  0.45052423 0.18818527 0.3060506  0.48963458 0.94394842 0.59127267]\n",
      " [0.8725076  0.72713577 0.73726641 0.84692694 0.09609366 0.68783178\n",
      "  0.92332141 0.10129708 0.19513806 0.61348321 0.88415603 0.92443575\n",
      "  0.8512422  0.01621485 0.80023249 0.91765512 0.16745158 0.20309923\n",
      "  0.82340775 0.12051775 0.70307572 0.95512818 0.78475803 0.04027297\n",
      "  0.87373287 0.71093542 0.82406287 0.17973075 0.81082091 0.33737267]\n",
      " [0.29856845 0.77602007 0.8095705  0.37115573 0.27241203 0.29370913\n",
      "  0.5116979  0.72741513 0.23119268 0.51802073 0.7094833  0.04410142\n",
      "  0.35687957 0.58711425 0.80764215 0.06845562 0.67615985 0.4757602\n",
      "  0.778958   0.9013226  0.14611506 0.39466968 0.82586036 0.87205072\n",
      "  0.85345682 0.04547655 0.63461312 0.36846127 0.44849441 0.18528745]\n",
      " [0.55089515 0.77249259 0.63867763 0.35622217 0.76251619 0.66444598\n",
      "  0.45148795 0.20964973 0.88895529 0.48191701 0.42882726 0.59348264\n",
      "  0.94537281 0.42642492 0.1420739  0.18139009 0.69132574 0.68768282\n",
      "  0.48645559 0.21477419 0.12811228 0.87235849 0.64936719 0.42430035\n",
      "  0.62440919 0.88863647 0.82652072 0.94967247 0.97910492 0.1485824 ]\n",
      " [0.6034492  0.94188158 0.98691834 0.99574424 0.27293361 0.06130045\n",
      "  0.72095913 0.75875714 0.79552856 0.2297204  0.81997632 0.98871388\n",
      "  0.2652925  0.17082934 0.75054647 0.76179907 0.41369619 0.90056119\n",
      "  0.1859501  0.86604562 0.65425304 0.76904439 0.10185372 0.09203071\n",
      "  0.4072585  0.51371871 0.08783356 0.89295536 0.10624201 0.32245723]\n",
      " [0.32596137 0.81291207 0.53370342 0.83861433 0.34809221 0.4010704\n",
      "  0.65799096 0.46899464 0.58837329 0.03057513 0.80582819 0.19991795\n",
      "  0.22543744 0.90631636 0.68078859 0.31030469 0.62937639 0.55305175\n",
      "  0.972174   0.52443548 0.88514584 0.29055029 0.65986125 0.43886989\n",
      "  0.29449722 0.81668997 0.10866945 0.25463286 0.51249357 0.02331066]\n",
      " [0.50070907 0.36751533 0.15427005 0.91184505 0.3159408  0.37860364\n",
      "  0.1798109  0.21954048 0.65770934 0.89907194 0.04609923 0.01048784\n",
      "  0.90612445 0.30720321 0.9318755  0.56541561 0.70476127 0.48809333\n",
      "  0.05698939 0.43514231 0.8925329  0.42548279 0.30112718 0.27083128\n",
      "  0.16811032 0.55244873 0.11476716 0.28750587 0.02929114 0.18697798]\n",
      " [0.65643067 0.57902377 0.99210749 0.30464474 0.28718121 0.29597692\n",
      "  0.87645341 0.51529067 0.46464677 0.89008823 0.48578143 0.76433462\n",
      "  0.2057782  0.88108566 0.2389038  0.82734441 0.73828291 0.69845392\n",
      "  0.6207184  0.89223852 0.37384878 0.8204529  0.04166822 0.52088907\n",
      "  0.75098418 0.09804624 0.67332848 0.22646769 0.8370262  0.41264333]\n",
      " [0.68016852 0.25671583 0.56834439 0.32640197 0.52928889 0.69635814\n",
      "  0.92932917 0.49799105 0.6784592  0.45967888 0.97654608 0.20817679\n",
      "  0.38234502 0.67274882 0.48526503 0.8590726  0.07168331 0.129903\n",
      "  0.14985561 0.49248887 0.4716699  0.79789015 0.81403379 0.57176299\n",
      "  0.97210231 0.13979277 0.9019095  0.77905578 0.29500796 0.58555989]\n",
      " [0.05415782 0.20095488 0.36001573 0.62708412 0.75832261 0.06432058\n",
      "  0.04970676 0.63508457 0.85680923 0.47292278 0.58662073 0.06796991\n",
      "  0.28223656 0.50055586 0.71823435 0.65954121 0.48106464 0.39215098\n",
      "  0.63859131 0.56077171 0.13950589 0.36754243 0.54248131 0.9518536\n",
      "  0.96911514 0.85955631 0.6342658  0.85504581 0.40741861 0.16259131]\n",
      " [0.84611456 0.25277069 0.67334578 0.16659669 0.76845825 0.17063533\n",
      "  0.20957534 0.3170355  0.26914124 0.20210953 0.4675248  0.99412847\n",
      "  0.62561758 0.71663264 0.78810818 0.64978247 0.55513438 0.52129602\n",
      "  0.90793819 0.90452088 0.38746027 0.49150247 0.03939645 0.1491728\n",
      "  0.53083611 0.44623025 0.65570614 0.6087911  0.48272253 0.38813436]\n",
      " [0.8095854  0.46905732 0.31997143 0.06750106 0.74587428 0.48304242\n",
      "  0.24718264 0.82331152 0.13090981 0.42068411 0.63731864 0.03592919\n",
      "  0.51111981 0.41178425 0.52197191 0.47915902 0.76888057 0.1374371\n",
      "  0.01736569 0.04988027 0.49669435 0.16705758 0.38922935 0.57691655\n",
      "  0.32628715 0.40637474 0.28063176 0.19776291 0.81550196 0.04390005]\n",
      " [0.66558129 0.96904524 0.13089861 0.7120824  0.2494084  0.91061771\n",
      "  0.42439236 0.71597142 0.70921053 0.05879752 0.52824318 0.90011454\n",
      "  0.67633736 0.29093981 0.7836607  0.599062   0.11848435 0.06180367\n",
      "  0.25634586 0.57401419 0.58325876 0.02590732 0.74749764 0.30924221\n",
      "  0.30802639 0.47106148 0.20089566 0.57655311 0.16208184 0.60420225]\n",
      " [0.41229789 0.31644696 0.41880327 0.47872281 0.67237479 0.7776256\n",
      "  0.81570839 0.22905679 0.21824606 0.74608533 0.04764688 0.83717667\n",
      "  0.75715605 0.52702604 0.49693907 0.06118231 0.44411135 0.38681042\n",
      "  0.45698487 0.66386208 0.65223171 0.079624   0.11712209 0.48926684\n",
      "  0.77626766 0.72656045 0.14570856 0.00956082 0.40233555 0.83212867]\n",
      " [0.57412831 0.3546546  0.73253355 0.57785548 0.16294882 0.75817017\n",
      "  0.64456643 0.68148711 0.06484262 0.22465083 0.31430573 0.42837314\n",
      "  0.56302961 0.49880375 0.95037736 0.11224686 0.53575477 0.83371843\n",
      "  0.46576478 0.96459458 0.86245334 0.91773764 0.26272621 0.2124526\n",
      "  0.73683179 0.36255996 0.71002374 0.58063626 0.93221207 0.33728809]\n",
      " [0.52830244 0.26019356 0.40317074 0.28588839 0.45508317 0.28354613\n",
      "  0.65461843 0.00728477 0.88838164 0.94302933 0.96986524 0.33199107\n",
      "  0.60980278 0.48872865 0.00277301 0.42872958 0.80174566 0.63467712\n",
      "  0.37000273 0.70182261 0.39951358 0.71839744 0.89575067 0.23851717\n",
      "  0.7046217  0.53391801 0.157725   0.80161557 0.73384139 0.91395366]\n",
      " [0.45854008 0.51430008 0.34420979 0.43167859 0.71755795 0.15051883\n",
      "  0.00934821 0.35166898 0.04984127 0.279081   0.10840498 0.7427849\n",
      "  0.47758915 0.42092535 0.31042148 0.00795434 0.16870822 0.57912799\n",
      "  0.30213304 0.21158226 0.80424188 0.5784415  0.37376117 0.50312105\n",
      "  0.67375612 0.57104874 0.3475443  0.69683779 0.23429546 0.7712308 ]]\n",
      "\n",
      "\n",
      "0.5059106096266945\n",
      "\n",
      "\n"
     ]
    }
   ],
   "source": [
    "random_arr=np.random.rand(30,30)\n",
    "print(random_arr)\n",
    "print(\"\\n\")\n",
    "print(random_arr.mean())\n",
    "print(\"\\n\")"
   ]
  },
  {
   "cell_type": "markdown",
   "id": "e4002c40",
   "metadata": {},
   "source": [
    "### 15. Create a 2d array with 1 on the border and 0 inside (★☆☆)"
   ]
  },
  {
   "cell_type": "code",
   "execution_count": 25,
   "id": "ad0d984f",
   "metadata": {},
   "outputs": [
    {
     "name": "stdout",
     "output_type": "stream",
     "text": [
      "[[0. 0. 0.]\n",
      " [0. 1. 0.]\n",
      " [0. 0. 0.]]\n"
     ]
    }
   ],
   "source": [
    "array_center=np.zeros([3,3])\n",
    "array_center[1,1]=1\n",
    "print(array_center)\n"
   ]
  },
  {
   "cell_type": "markdown",
   "id": "e4eb36da",
   "metadata": {},
   "source": [
    "### 16. How to add a border (filled with 0's) around an existing array? (★☆☆)"
   ]
  },
  {
   "cell_type": "code",
   "execution_count": 32,
   "id": "c8d618bb",
   "metadata": {
    "scrolled": true
   },
   "outputs": [
    {
     "name": "stdout",
     "output_type": "stream",
     "text": [
      "[[1 2 3]\n",
      " [4 5 6]\n",
      " [7 8 9]]\n",
      "\n",
      "\n",
      "[[0 0 0 0 0]\n",
      " [0 1 2 3 0]\n",
      " [0 4 5 6 0]\n",
      " [0 7 8 9 0]\n",
      " [0 0 0 0 0]]\n"
     ]
    }
   ],
   "source": [
    "array_border=np.arange(1,10).reshape(3,3)\n",
    "print(array_border)\n",
    "array_border = np.pad(array_border, pad_width=1, mode='constant', constant_values=0)\n",
    "print(\"\\n\")\n",
    "print(array_border)"
   ]
  },
  {
   "cell_type": "markdown",
   "id": "7419c2aa",
   "metadata": {},
   "source": [
    "### 17. What is the result of the following expression? (★☆☆)"
   ]
  },
  {
   "cell_type": "code",
   "execution_count": 33,
   "id": "5a9ec51f",
   "metadata": {},
   "outputs": [],
   "source": [
    "# 0 * np.nan\n",
    "# np.nan == np.nan\n",
    "# np.inf > np.nan\n",
    "# np.nan - np.nan\n",
    "# np.nan in set([np.nan])\n",
    "# 0.3 == 3 * 0.1"
   ]
  },
  {
   "cell_type": "code",
   "execution_count": 35,
   "id": "cfa0bf0b",
   "metadata": {
    "scrolled": true
   },
   "outputs": [
    {
     "name": "stdout",
     "output_type": "stream",
     "text": [
      "nan\n",
      "False\n",
      "False\n",
      "nan\n",
      "True\n",
      "False\n"
     ]
    }
   ],
   "source": [
    "print(0 * np.nan)\n",
    "print(np.nan == np.nan) \n",
    "print(np.inf > np.nan) \n",
    "print(np.nan - np.nan) \n",
    "print(np.nan in set([np.nan])) \n",
    "print( 0.3 == 3 * 0.1)"
   ]
  },
  {
   "cell_type": "markdown",
   "id": "d2ef0c7a",
   "metadata": {},
   "source": [
    "### 18. Create a 5x5 matrix with values 1,2,3,4 just below the diagonal (★☆☆)"
   ]
  },
  {
   "cell_type": "code",
   "execution_count": 42,
   "id": "c0bc5a6a",
   "metadata": {
    "scrolled": true
   },
   "outputs": [
    {
     "name": "stdout",
     "output_type": "stream",
     "text": [
      "[[0 0 0 0 0]\n",
      " [1 0 0 0 0]\n",
      " [0 2 0 0 0]\n",
      " [0 0 3 0 0]\n",
      " [0 0 0 4 0]]\n"
     ]
    }
   ],
   "source": [
    "diag = np.diag(1+np.arange(4),k=-1)\n",
    "print(diag)"
   ]
  },
  {
   "cell_type": "markdown",
   "id": "4e213d9c",
   "metadata": {},
   "source": [
    "### 19. Create a 8x8 matrix and fill it with a checkerboard pattern (★☆☆)"
   ]
  },
  {
   "cell_type": "code",
   "execution_count": 58,
   "id": "35ce0a2a",
   "metadata": {
    "scrolled": true
   },
   "outputs": [
    {
     "name": "stdout",
     "output_type": "stream",
     "text": [
      "[[0 1 0 1 0 1 0 1]\n",
      " [1 0 1 0 1 0 1 0]\n",
      " [0 1 0 1 0 1 0 1]\n",
      " [1 0 1 0 1 0 1 0]\n",
      " [0 1 0 1 0 1 0 1]\n",
      " [1 0 1 0 1 0 1 0]\n",
      " [0 1 0 1 0 1 0 1]\n",
      " [1 0 1 0 1 0 1 0]]\n"
     ]
    }
   ],
   "source": [
    "checkboard = np.zeros((8,8),dtype=int)\n",
    "checkboard[1::2, ::2] = 1\n",
    "checkboard[::2, 1::2] = 1\n",
    "\n",
    "print(checkboard)"
   ]
  },
  {
   "cell_type": "markdown",
   "id": "e10ac578",
   "metadata": {},
   "source": [
    "### 20. Consider a (6,7,8) shape array, what is the index (x,y,z) of the 100th element? (★☆☆)"
   ]
  },
  {
   "cell_type": "code",
   "execution_count": 59,
   "id": "e26e105f",
   "metadata": {},
   "outputs": [
    {
     "name": "stdout",
     "output_type": "stream",
     "text": [
      "(1, 5, 3)\n"
     ]
    }
   ],
   "source": [
    "print(np.unravel_index(99,(6,7,8)))"
   ]
  }
 ],
 "metadata": {
  "kernelspec": {
   "display_name": "Python 3 (ipykernel)",
   "language": "python",
   "name": "python3"
  },
  "language_info": {
   "codemirror_mode": {
    "name": "ipython",
    "version": 3
   },
   "file_extension": ".py",
   "mimetype": "text/x-python",
   "name": "python",
   "nbconvert_exporter": "python",
   "pygments_lexer": "ipython3",
   "version": "3.11.4"
  }
 },
 "nbformat": 4,
 "nbformat_minor": 5
}
